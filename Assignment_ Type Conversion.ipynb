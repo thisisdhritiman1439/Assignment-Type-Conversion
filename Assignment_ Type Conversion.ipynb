{
 "cells": [
  {
   "cell_type": "code",
   "execution_count": 2,
   "id": "dd4ca08e-c416-4b87-a3a9-f8d492b7ad3c",
   "metadata": {},
   "outputs": [
    {
     "name": "stdin",
     "output_type": "stream",
     "text": [
      "Enter a Number:  25\n"
     ]
    },
    {
     "name": "stdout",
     "output_type": "stream",
     "text": [
      "The Floating Number of 25 is 25.0\n"
     ]
    }
   ],
   "source": [
    "#Covert an integer to a floating-point number.\n",
    "num=int(input(\"Enter a Number: \"))\n",
    "print(\"The Floating Number of\",num,\"is\",float(num))"
   ]
  },
  {
   "cell_type": "code",
   "execution_count": 3,
   "id": "a77c7ea1-1e46-42b9-a2f4-2a3ee023eccf",
   "metadata": {},
   "outputs": [
    {
     "name": "stdin",
     "output_type": "stream",
     "text": [
      "Enter a Number:  12.65\n"
     ]
    },
    {
     "name": "stdout",
     "output_type": "stream",
     "text": [
      "THe Integer number of 12.65 is 12\n"
     ]
    }
   ],
   "source": [
    "# Covert a float to an integer.\n",
    "n=float(input(\"Enter a Number: \"))\n",
    "print(\"The Integer number of\",n,\"is\",int(n))"
   ]
  },
  {
   "cell_type": "code",
   "execution_count": 4,
   "id": "0ad03acc-008d-4b3e-b20b-4853d5d44e67",
   "metadata": {},
   "outputs": [
    {
     "name": "stdin",
     "output_type": "stream",
     "text": [
      "Enter a number:  14\n"
     ]
    },
    {
     "name": "stdout",
     "output_type": "stream",
     "text": [
      "The String of 14 is 14\n"
     ]
    }
   ],
   "source": [
    "# Covert an integer to a string.\n",
    "i=int(input(\"Enter a number: \"))\n",
    "print(\"The String of\",i,\"is\",str(i))"
   ]
  },
  {
   "cell_type": "code",
   "execution_count": 6,
   "id": "c2b66c14-23a0-4e04-a7fe-95c96ed248a4",
   "metadata": {},
   "outputs": [
    {
     "name": "stdout",
     "output_type": "stream",
     "text": [
      "(1, 13, 9, 20, 'Byte Artist')\n"
     ]
    }
   ],
   "source": [
    "#Covert a list to a tuple.\n",
    "lst=[1,13,9,20,\"Byte Artist\"]\n",
    "b=tuple(lst)\n",
    "print(b)"
   ]
  },
  {
   "cell_type": "code",
   "execution_count": 7,
   "id": "c29e9842-52a3-4b44-88c4-ade884609e44",
   "metadata": {},
   "outputs": [
    {
     "name": "stdout",
     "output_type": "stream",
     "text": [
      "[1, 9, 13, 20, 28, 35, 'Thisisdhritiman']\n"
     ]
    }
   ],
   "source": [
    "# Covert a tuple to a list.\n",
    "tup=(1,9,13,20,28,35,\"Thisisdhritiman\")\n",
    "lst=list(tup)\n",
    "print(lst)"
   ]
  },
  {
   "cell_type": "code",
   "execution_count": 15,
   "id": "524ed48d-61d3-4066-bea0-4eae4b3c8ca7",
   "metadata": {},
   "outputs": [
    {
     "name": "stdin",
     "output_type": "stream",
     "text": [
      "Enter a Decimal Number:  12\n"
     ]
    },
    {
     "name": "stdout",
     "output_type": "stream",
     "text": [
      "The binary representation is: 1100\n"
     ]
    }
   ],
   "source": [
    "# Covert a decimal Number to binary.\n",
    "decimal = int(input(\"Enter a Decimal Number: \"))\n",
    "binary = bin(decimal)\n",
    "print(\"The binary representation is:\", binary[2:]) "
   ]
  },
  {
   "cell_type": "code",
   "execution_count": 17,
   "id": "ecb21c17-7db5-4a68-af0b-b4100e3ce782",
   "metadata": {},
   "outputs": [
    {
     "name": "stdin",
     "output_type": "stream",
     "text": [
      "Enter a non-zero Number:  21\n"
     ]
    },
    {
     "name": "stdout",
     "output_type": "stream",
     "text": [
      "True\n"
     ]
    }
   ],
   "source": [
    "# Covert a o-zero number to boolean.\n",
    "num=int(input(\"Enter a non-zero Number: \"))\n",
    "boolean_num=bool(num)\n",
    "print(\"The Boolean Value of the number is: \",boolean_num)"
   ]
  }
 ],
 "metadata": {
  "kernelspec": {
   "display_name": "Python 3 (ipykernel)",
   "language": "python",
   "name": "python3"
  },
  "language_info": {
   "codemirror_mode": {
    "name": "ipython",
    "version": 3
   },
   "file_extension": ".py",
   "mimetype": "text/x-python",
   "name": "python",
   "nbconvert_exporter": "python",
   "pygments_lexer": "ipython3",
   "version": "3.10.12"
  }
 },
 "nbformat": 4,
 "nbformat_minor": 5
}
